{
  "nbformat": 4,
  "nbformat_minor": 0,
  "metadata": {
    "colab": {
      "provenance": [],
      "authorship_tag": "ABX9TyPs9he4WI3I7N9dB6YgtIxS",
      "include_colab_link": true
    },
    "kernelspec": {
      "name": "python3",
      "display_name": "Python 3"
    },
    "language_info": {
      "name": "python"
    }
  },
  "cells": [
    {
      "cell_type": "markdown",
      "metadata": {
        "id": "view-in-github",
        "colab_type": "text"
      },
      "source": [
        "<a href=\"https://colab.research.google.com/github/Luca-Braga/U_psAi/blob/main/Untitled1.ipynb\" target=\"_parent\"><img src=\"https://colab.research.google.com/assets/colab-badge.svg\" alt=\"Open In Colab\"/></a>"
      ]
    },
    {
      "cell_type": "code",
      "execution_count": 22,
      "metadata": {
        "id": "S4Uy7rPilQL-"
      },
      "outputs": [],
      "source": [
        "!pip install -q -U google-generativeai"
      ]
    },
    {
      "cell_type": "markdown",
      "source": [
        "Instalando o SDK do Google"
      ],
      "metadata": {
        "id": "ikPG0hh0nMas"
      }
    },
    {
      "cell_type": "code",
      "source": [
        "import google.generativeai as genai\n",
        "from google.colab import userdata\n",
        "api_key = userdata.get('SECRET_KEY')\n",
        "genai.configure(api_key=api_key)"
      ],
      "metadata": {
        "id": "tZQpuFhDnU8j"
      },
      "execution_count": 23,
      "outputs": []
    },
    {
      "cell_type": "markdown",
      "source": [
        "Listar os modelos disponíveis"
      ],
      "metadata": {
        "id": "MN4f5XQOoA-c"
      }
    },
    {
      "cell_type": "code",
      "source": [
        "for m in genai.list_models():\n",
        "  if 'generateContent' in m.supported_generation_methods:\n",
        "    print(m.name)"
      ],
      "metadata": {
        "colab": {
          "base_uri": "https://localhost:8080/",
          "height": 225
        },
        "id": "dbvzkzrvn0HL",
        "outputId": "8de2d829-0a51-4136-9d13-439378e01dae"
      },
      "execution_count": 24,
      "outputs": [
        {
          "output_type": "stream",
          "name": "stdout",
          "text": [
            "models/gemini-1.0-pro\n",
            "models/gemini-1.0-pro-001\n",
            "models/gemini-1.0-pro-latest\n",
            "models/gemini-1.0-pro-vision-latest\n",
            "models/gemini-1.5-flash\n",
            "models/gemini-1.5-flash-001\n",
            "models/gemini-1.5-flash-latest\n",
            "models/gemini-1.5-pro\n",
            "models/gemini-1.5-pro-001\n",
            "models/gemini-1.5-pro-latest\n",
            "models/gemini-pro\n",
            "models/gemini-pro-vision\n"
          ]
        }
      ]
    },
    {
      "cell_type": "code",
      "source": [
        "generation_config = {\n",
        "    \"candidate_count\": 1,\n",
        "    \"temperature\" : 0.5\n",
        "}"
      ],
      "metadata": {
        "id": "flrp7kUOvSBC"
      },
      "execution_count": 25,
      "outputs": []
    },
    {
      "cell_type": "code",
      "source": [
        "safety_settings = {\n",
        "    \"HARASSMENT\": \"BLOCK_NONE\",\n",
        "    \"HATE\": \"BLOCK_NONE\",\n",
        "    \"SEXUAL\": \"BLOCK_NONE\",\n",
        "}"
      ],
      "metadata": {
        "id": "roRpjkUk0ZGb"
      },
      "execution_count": 26,
      "outputs": []
    },
    {
      "cell_type": "markdown",
      "source": [
        "Inicializando o modelo"
      ],
      "metadata": {
        "id": "LbK2ll-l1UHv"
      }
    },
    {
      "cell_type": "code",
      "source": [
        "model = genai.GenerativeModel(model_name=\"gemini-1.0-pro\",\n",
        "                              generation_config=generation_config,\n",
        "                              safety_settings=safety_settings)"
      ],
      "metadata": {
        "id": "vc_xpcOs2gvX"
      },
      "execution_count": 27,
      "outputs": []
    },
    {
      "cell_type": "code",
      "source": [
        "response = model.generate_content(\"vamos cuidae da saúde mental dos universitários usando a inteligência artificial. Me dê sugestões\")\n",
        "print(response.text)"
      ],
      "metadata": {
        "colab": {
          "base_uri": "https://localhost:8080/",
          "height": 610
        },
        "id": "1xSDQ8Jp3Kxl",
        "outputId": "8f6498f0-a83d-48ac-be56-fe936cbbe95e"
      },
      "execution_count": 28,
      "outputs": [
        {
          "output_type": "stream",
          "name": "stdout",
          "text": [
            "**Uso da Inteligência Artificial (IA) para Cuidar da Saúde Mental dos Universitários**\n",
            "\n",
            "**1. Chatbots de Apoio Emocional:**\n",
            "* Fornecer apoio emocional 24 horas por dia, 7 dias por semana, por meio de conversas automatizadas.\n",
            "* Detectar sinais de angústia e encaminhar os alunos para recursos profissionais.\n",
            "\n",
            "**2. Triagem e Avaliação Automatizada:**\n",
            "* Avaliar o bem-estar mental dos alunos por meio de questionários e algoritmos de IA.\n",
            "* Identificar alunos em risco e conectá-los com os serviços apropriados.\n",
            "\n",
            "**3. Recomendações Personalizadas:**\n",
            "* Analisar dados de triagem para fornecer recomendações personalizadas de estratégias de enfrentamento e recursos de apoio.\n",
            "* Conectar os alunos com terapeutas, grupos de apoio e técnicas de autocuidado.\n",
            "\n",
            "**4. Monitoramento e Rastreamento:**\n",
            "* Monitorar o progresso dos alunos ao longo do tempo e identificar mudanças em seus níveis de bem-estar.\n",
            "* Notificar os profissionais de saúde mental sobre preocupações urgentes.\n",
            "\n",
            "**5. Plataformas de Autocuidado:**\n",
            "* Fornecer acesso a exercícios de meditação, técnicas de respiração e outros recursos de autocuidado guiados por IA.\n",
            "* Rastrear o progresso dos alunos e fornecer feedback motivacional.\n",
            "\n",
            "**6. Análise de Dados e Insights:**\n",
            "* Coletar e analisar dados sobre a saúde mental dos alunos para identificar tendências e áreas de necessidade.\n",
            "* Informar o desenvolvimento de intervenções direcionadas e estratégias preventivas.\n",
            "\n",
            "**7. Integração com Serviços Existentes:**\n",
            "* Integrar chatbots de IA e plataformas de autocuidado com serviços de saúde mental existentes no campus.\n",
            "* Garantir uma abordagem coordenada e abrangente para o apoio à saúde mental.\n",
            "\n",
            "**8. Pesquisa e Desenvolvimento:**\n",
            "* Conduzir pesquisas para aprimorar a eficácia das ferramentas de IA para saúde mental.\n",
            "* Explorar novas aplicações de IA para atender às necessidades únicas dos universitários.\n"
          ]
        }
      ]
    },
    {
      "cell_type": "code",
      "source": [
        "chat = model.start_chat(history=[])"
      ],
      "metadata": {
        "id": "kp81k-zY6djB"
      },
      "execution_count": 30,
      "outputs": []
    },
    {
      "cell_type": "code",
      "source": [
        "prompt = input(\"Esperando prompt: \")\n",
        "\n",
        "while prompt != \"fim\":\n",
        "  response = chat.send_message(prompt)\n",
        "  print(\"Resposta: \", response.text, \"\\n\")\n",
        "  prompt = input(\"Esperando prompt:\")"
      ],
      "metadata": {
        "colab": {
          "base_uri": "https://localhost:8080/",
          "height": 1000
        },
        "id": "r_BWNqRjBqSh",
        "outputId": "205c5c7e-0c96-4005-cae2-e26c84094900"
      },
      "execution_count": null,
      "outputs": [
        {
          "output_type": "stream",
          "name": "stdout",
          "text": [
            "Esperando prompt: em qual universidade eu posso emprestar livros de psicologia\n",
            "Resposta:  Aqui estão algumas universidades onde você pode emprestar livros de psicologia:\n",
            "\n",
            "* **Universidade Federal do Rio de Janeiro (UFRJ)**\n",
            "* **Universidade de São Paulo (USP)**\n",
            "* **Universidade Estadual de Campinas (UNICAMP)**\n",
            "* **Pontifícia Universidade Católica do Rio de Janeiro (PUC-Rio)**\n",
            "* **Universidade Federal de Minas Gerais (UFMG)**\n",
            "* **Universidade Federal do Rio Grande do Sul (UFRGS)**\n",
            "* **Universidade Federal de Santa Catarina (UFSC)**\n",
            "* **Universidade Federal do Paraná (UFPR)**\n",
            "* **Universidade Federal de Pernambuco (UFPE)**\n",
            "* **Universidade Federal da Bahia (UFBA)**\n",
            "\n",
            "Para emprestar livros, você precisará se cadastrar na biblioteca da universidade e obter uma carteirinha de estudante ou pesquisador. Algumas bibliotecas também podem permitir que visitantes não afiliados emprestem livros por um período limitado.\n",
            "\n",
            "Recomendo verificar o site ou entrar em contato diretamente com a biblioteca da universidade para obter informações específicas sobre os procedimentos de empréstimo e a disponibilidade de livros de psicologia. \n",
            "\n",
            "Esperando prompt:quais jogos podem melhorar o meu humor\n",
            "Resposta:  Aqui estão alguns jogos que podem melhorar seu humor:\n",
            "\n",
            "* **Jogos alegres e divertidos:** Esses jogos são projetados para serem leves e divertidos, proporcionando uma fuga do estresse e da ansiedade. Exemplos incluem:\n",
            "    * Animal Crossing: New Horizons\n",
            "    * Stardew Valley\n",
            "    * The Sims 4\n",
            "    * Overcooked!\n",
            "    * Fall Guys\n",
            "\n",
            "* **Jogos de quebra-cabeça e estratégia:** Esses jogos podem desafiar sua mente e proporcionar uma sensação de realização. Exemplos incluem:\n",
            "    * Tetris\n",
            "    * Sudoku\n",
            "    * Candy Crush Saga\n",
            "    * Monument Valley\n",
            "    * Portal\n",
            "\n",
            "* **Jogos de aventura e exploração:** Esses jogos podem transportá-lo para novos mundos e proporcionar uma sensação de escapismo. Exemplos incluem:\n",
            "    * The Legend of Zelda: Breath of the Wild\n",
            "    * Skyrim\n",
            "    * Minecraft\n",
            "    * Journey\n",
            "    * Ori and the Blind Forest\n",
            "\n",
            "* **Jogos musicais:** Esses jogos podem ser divertidos e energizantes, e também podem ajudar a melhorar seu humor. Exemplos incluem:\n",
            "    * Just Dance\n",
            "    * Guitar Hero\n",
            "    * Rock Band\n",
            "    * Beat Saber\n",
            "    * Audiosurf\n",
            "\n",
            "* **Jogos sociais:** Esses jogos podem ajudá-lo a se conectar com outras pessoas e proporcionar uma sensação de comunidade. Exemplos incluem:\n",
            "    * Among Us\n",
            "    * Fortnite\n",
            "    * Minecraft (multijogador)\n",
            "    * Animal Crossing: New Horizons (multijogador)\n",
            "    * Phasmophobia\n",
            "\n",
            "É importante lembrar que os efeitos dos jogos no humor podem variar de pessoa para pessoa. O que funciona para uma pessoa pode não funcionar para outra. Experimente diferentes jogos e veja quais deles melhoram seu humor. \n",
            "\n",
            "Esperando prompt:onde eu posso conversar com um psicólogo online e gratuitamente\n",
            "Resposta:  Aqui estão alguns lugares onde você pode conversar com um psicólogo online e gratuitamente:\n",
            "\n",
            "* **Psicologia Viva:** https://psicologiaviva.com.br/chat-psicologico-gratuito\n",
            "* **CVV (Centro de Valorização da Vida):** https://www.cvv.org.br/chat/\n",
            "* **Projeto Conexão:** https://projetoconexao.org.br/\n",
            "* **CAPS (Centro de Atenção Psicossocial):** Alguns CAPS oferecem atendimento online gratuito. Você pode encontrar o CAPS mais próximo de você aqui: https://www.saude.gov.br/saude-mental/rede-de-atencao-psicossocial-raps\n",
            "* **Universidades:** Algumas universidades oferecem serviços de psicologia online gratuitos ou de baixo custo para alunos e comunidade em geral. Verifique com a universidade mais próxima de você.\n",
            "\n",
            "**Observações importantes:**\n",
            "\n",
            "* Os serviços online gratuitos podem ter horários de atendimento limitados ou filas de espera.\n",
            "* Os psicólogos online podem não ser capazes de fornecer diagnósticos ou prescrições de medicamentos.\n",
            "* Se você estiver em crise ou precisar de ajuda imediata, ligue para o CVV no número 188 ou vá ao pronto-socorro mais próximo. \n",
            "\n",
            "Esperando prompt:eu não consigo me concentrar nos estudos, preciso de ajuda\n",
            "Resposta:  **Causas possíveis para dificuldade de concentração nos estudos:**\n",
            "\n",
            "* **Distrações:** Ambiente barulhento, redes sociais, notificações de celular\n",
            "* **Ansiedade e estresse:** Preocupações com desempenho, prazos\n",
            "* **Falta de sono:** Noites mal dormidas podem prejudicar a concentração\n",
            "* **Problemas de saúde mental:** TDAH, depressão, ansiedade\n",
            "* **Condições médicas:** Anemia, hipotireoidismo\n",
            "* **Medicamentos:** Alguns medicamentos podem causar efeitos colaterais como dificuldade de concentração\n",
            "* **Falta de interesse no assunto:** É mais difícil se concentrar em algo que você não acha interessante\n",
            "\n",
            "**Dicas para melhorar a concentração nos estudos:**\n",
            "\n",
            "* **Crie um ambiente de estudo livre de distrações:** Encontre um lugar tranquilo e livre de ruídos, desligue as notificações do celular e feche as redes sociais.\n",
            "* **Gerencie a ansiedade e o estresse:** Pratique técnicas de relaxamento, como respiração profunda ou meditação. Divida tarefas grandes em partes menores e estabeleça prazos realistas.\n",
            "* **Durma o suficiente:** A maioria dos adultos precisa de 7 a 9 horas de sono por noite. Estabeleça um horário regular de sono e crie um ambiente relaxante para dormir.\n",
            "* **Faça pausas regulares:** Levante-se e mova-se a cada 20-30 minutos para melhorar a circulação e o foco.\n",
            "* **Mantenha-se hidratado:** Beba bastante água ao longo do dia, pois a desidratação pode prejudicar a concentração.\n",
            "* **Alimente-se de forma saudável:** Evite alimentos processados e açucarados, que podem causar quedas de energia e dificuldade de concentração.\n",
            "* **Exercite-se regularmente:** O exercício físico libera endorfinas, que podem melhorar o humor e a concentração.\n",
            "* **Encontre um parceiro de estudo:** Estudar com um amigo ou colega pode ajudar a manter a motivação e o foco.\n",
            "* **Torne o aprendizado interessante:** Encontre maneiras de tornar o material de estudo mais envolvente, como usando flashcards, assistindo a vídeos ou ouvindo podcasts.\n",
            "* **Procure ajuda profissional:** Se você estiver lutando para se concentrar nos estudos apesar de seguir essas dicas, considere procurar ajuda de um psicólogo ou terapeuta. Eles podem ajudá-lo a identificar e abordar as causas subjacentes da dificuldade de concentração. \n",
            "\n",
            "Esperando prompt:eu não tenho amigos na faculdade, dá vontade de desistir\n",
            "Resposta:  É compreensível se sentir desanimado por não ter amigos na faculdade. Aqui estão algumas dicas para ajudá-lo a superar esse desafio:\n",
            "\n",
            "* **Participe de atividades e clubes:** Junte-se a clubes ou grupos que se alinhem com seus interesses. Isso é uma ótima maneira de conhecer pessoas que compartilham seus hobbies e paixões.\n",
            "* **Frequente eventos sociais:** Participe de eventos organizados pela faculdade, como festas, palestras e workshops. Essas são oportunidades de conhecer novos rostos e fazer conexões.\n",
            "* **Sente-se em lugares diferentes nas aulas:** Sentar em lugares diferentes nas aulas pode ajudá-lo a conhecer pessoas diferentes. Tente sentar ao lado de alguém que você não conhece e inicie uma conversa.\n",
            "* **Converse com seus colegas:** Mesmo que você não tenha muito em comum com seus colegas de classe, tente conversar com eles sobre o curso, as tarefas ou os professores. Isso pode ajudá-lo a construir relacionamentos gradualmente.\n",
            "* **Seja você mesmo:** Não tente ser alguém que você não é para agradar aos outros. Seja autêntico e as pessoas certas serão atraídas por você.\n",
            "* **Seja paciente:** Construir amizades leva tempo. Não desanime se você não fizer amigos imediatamente. Continue se colocando em situações sociais e, eventualmente, você encontrará pessoas com quem se conectar.\n",
            "\n",
            "**Lembre-se:**\n",
            "\n",
            "* Você não está sozinho. Muitos alunos passam por períodos em que se sentem sozinhos na faculdade.\n",
            "* As amizades podem levar tempo para se desenvolver. Não desista se você não fizer amigos imediatamente.\n",
            "* Existem muitas maneiras de conhecer pessoas na faculdade. Experimente diferentes atividades e eventos para encontrar pessoas que compartilhem seus interesses.\n",
            "* Se você estiver realmente lutando, considere conversar com um conselheiro ou terapeuta da faculdade. Eles podem fornecer apoio e orientação sobre como fazer amigos e lidar com a solidão. \n",
            "\n"
          ]
        }
      ]
    }
  ]
}